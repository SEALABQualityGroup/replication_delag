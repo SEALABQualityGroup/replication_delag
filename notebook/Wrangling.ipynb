{
 "cells": [
  {
   "cell_type": "code",
   "execution_count": 16,
   "metadata": {},
   "outputs": [],
   "source": [
    "from glob import glob \n",
    "import os\n",
    "\n",
    "import pandas as pd"
   ]
  },
  {
   "cell_type": "code",
   "execution_count": 28,
   "metadata": {},
   "outputs": [],
   "source": [
    "os.makedirs('data/trainticket', exist_ok=True)\n",
    "os.makedirs('data/eshopper', exist_ok=True)"
   ]
  },
  {
   "cell_type": "code",
   "execution_count": 20,
   "metadata": {},
   "outputs": [],
   "source": [
    "def transform_float_to_int(x):\n",
    "    # If x is integer-like, convert to int\n",
    "    if x == int(x):\n",
    "        return int(x)\n",
    "    else:\n",
    "        raise ValueError()"
   ]
  },
  {
   "cell_type": "code",
   "execution_count": 31,
   "metadata": {},
   "outputs": [],
   "source": [
    "dataset_counter = {'trainticket':0, 'eshopper':0}\n",
    "\n",
    "for rq in ['rq1',  'rq2', 'rq3']:\n",
    "    for path in glob(f\"../datasets/*/{rq}*/*.parquet\"):\n",
    "        # get system name\n",
    "        system = path.split('/')[2]\n",
    "\n",
    "\n",
    "        # Read dataframe\n",
    "        df = pd.read_parquet(path)\n",
    "        \n",
    "        # Rename columns\n",
    "        mapper = {\"ts-travel-service_queryInfo\": \"Latency\",\n",
    "                  \"HomeControllerHome\": \"Latency\",\n",
    "                  \"get\":\"GatewayGet\"} \n",
    "        df.rename(axis='columns', mapper=mapper, inplace=True)\n",
    "\n",
    "        # Drop useless column\n",
    "        df.drop(columns=['traceId'], inplace=True)\n",
    "\n",
    "\n",
    "        # Reorder columns\n",
    "        latencies = df.pop('Latency')\n",
    "        df.insert(0, 'Latency', latencies)\n",
    "\n",
    "\n",
    "        # Change anomaly semantic (0: no anomaly, 1: first anomaly, 2: second anomaly)\n",
    "        mapper = {i:0 for i in range(2, 10)}\n",
    "        mapper[0] = 1\n",
    "        mapper[1] = 2\n",
    "        df['anomaly'] = df.pop('experiment').astype(int).map(mapper)\n",
    "\n",
    "        # Transform float to int\n",
    "        df = df.applymap(transform_float_to_int)\n",
    "\n",
    "        # Save dataset\n",
    "        id = str(dataset_counter[system]).zfill(3)\n",
    "        path = f\"data/{system}/{id}.csv\"\n",
    "        df.to_csv(path, index=False)\n",
    "\n",
    "\n",
    "        # Increment dataset counter\n",
    "        dataset_counter[system] += 1\n",
    "\n"
   ]
  },
  {
   "cell_type": "code",
   "execution_count": null,
   "metadata": {},
   "outputs": [],
   "source": []
  }
 ],
 "metadata": {
  "kernelspec": {
   "display_name": ".env",
   "language": "python",
   "name": "python3"
  },
  "language_info": {
   "codemirror_mode": {
    "name": "ipython",
    "version": 3
   },
   "file_extension": ".py",
   "mimetype": "text/x-python",
   "name": "python",
   "nbconvert_exporter": "python",
   "pygments_lexer": "ipython3",
   "version": "3.9.9"
  },
  "orig_nbformat": 4
 },
 "nbformat": 4,
 "nbformat_minor": 2
}
