{
 "cells": [
  {
   "cell_type": "code",
   "execution_count": null,
   "metadata": {},
   "outputs": [],
   "source": [
    "from bisect import bisect_left, bisect_right\n",
    "\n",
    "import pandas as pd\n",
    "import seaborn as sns\n",
    "import matplotlib.pyplot as plt\n",
    "from scipy.stats import wilcoxon, rankdata\n",
    "\n",
    "def a12(treatment, control):\n",
    "    m = len(treatment)\n",
    "    n = len(control)\n",
    "\n",
    "    r = rankdata(treatment + control)\n",
    "    r1 = sum(r[0:m])\n",
    "\n",
    "    # Compute the measure\n",
    "    return (r1 / m - (m + 1) / 2) / n  # formula (14) in Vargha and Delaney, 2000\n",
    "\n",
    "\n",
    "def interpret(A):\n",
    "    assert (0 <= A <= 1)\n",
    "\n",
    "    magnitude = [\"N\", \"S\", \"M\", \"L\"]\n",
    "    if A >= 0.5:\n",
    "        levels = [0.56, 0.64, 0.71]\n",
    "        i = bisect_right(levels, A)\n",
    "    else:\n",
    "        levels = [0.29, 0.34, 0.44]\n",
    "        magnitude.reverse()\n",
    "        i = bisect_left(levels, A)"
   ]
  },
  {
   "cell_type": "code",
   "execution_count": 55,
   "metadata": {},
   "outputs": [
    {
     "name": "stdout",
     "output_type": "stream",
     "text": [
      "Wilcoxon test results for eshopper\n",
      "p-value:0.7173535621498253, A12:0.0, A12 interpretation: None\n",
      "\n",
      "Wilcoxon test results for trainticket\n",
      "p-value:0.8431293969609626, A12:0.0, A12 interpretation: None\n",
      "\n"
     ]
    }
   ],
   "source": [
    "df_all = pd.DataFrame()\n",
    "casestudies = ['eshopper', 'trainticket']\n",
    "\n",
    "for cs in casestudies:\n",
    "    df = pd.read_csv('../results/{}/rq1.csv'.format(cs))\n",
    "    df = df[(df.algo == 'gra')]\n",
    "    df = df.groupby('exp').mean()[['fmeasure', 'precision', 'recall', 'time']]\n",
    "    df.sort_index('index', inplace=True)\n",
    "\n",
    "    df_new = pd.read_csv('../results/{}/rq1_new.csv'.format(cs))\n",
    "    df_new = df_new.groupby('exp').mean()[['fmeasure', 'precision', 'recall', 'time']]\n",
    "    \n",
    "    df['version'] ='original' \n",
    "    df_new['version'] ='modified'\n",
    "    df['casestudy'] = cs\n",
    "    df_new['casestudy'] = cs\n",
    "    df_new.sort_index('index', inplace=True)\n",
    "\n",
    "    \n",
    "    df_all = pd.concat([df_all, df, df_new])\n",
    "\n",
    "    _, p = wilcoxon(df.fmeasure, df_new.fmeasure)\n",
    "    print(\"Wilcoxon test results for {}\".format(cs))\n",
    "    A = a12(df.fmeasure, df_new.fmeasure)\n",
    "    print(\"p-value:{}, A12:{}, A12 interpretation: {}\\n\".format(p,  A, interpret(A)))"
   ]
  },
  {
   "cell_type": "code",
   "execution_count": 56,
   "metadata": {},
   "outputs": [],
   "source": [
    "df_all.replace({\"eshopper\":\"E-Shopper\", \"trainticket\":\"Train Ticket\"}, inplace=True)\n",
    "df_all.replace({\"original\":\"Original\", \"modified\":\"Modified\"}, inplace=True)\n",
    "\n",
    "df_all.rename(columns={\"version\": \"Mutation Operator Version\"}, inplace=True)"
   ]
  },
  {
   "cell_type": "code",
   "execution_count": 68,
   "metadata": {},
   "outputs": [
    {
     "data": {
      "image/png": "[encoded data removed]",
      "text/plain": [
       "<Figure size 432x288 with 1 Axes>"
      ]
     },
     "metadata": {},
     "output_type": "display_data"
    }
   ],
   "source": [
    "df_all.replace({\"eshopper\":\"E-Shopper\", \"trainticket\":\"Train Ticket\"}, inplace=True)\n",
    "df_all.replace({\"original\":\"Original\", \"modified\":\"Modified\"}, inplace=True)\n",
    "\n",
    "df_all.rename(columns={\"version\": \"Mutation Operator Version\"}, inplace=True)\n",
    "\n",
    "sns.set_style(\"whitegrid\")\n",
    "sns.boxplot(data=df_all,\n",
    "            y='fmeasure',\n",
    "            x='casestudy',\n",
    "            hue='Mutation Operator Version',\n",
    "            showmeans=True,\n",
    "            palette=['gainsboro', 'grey'],\n",
    "            meanprops={\"marker\":\"D\", \"markerfacecolor\":\"white\",\"markeredgecolor\":\"black\"},\n",
    "            width=0.4)\n",
    "plt.legend(title=\"Mutation Operator Version\", bbox_to_anchor=(1.01, 1), loc=2, borderaxespad=0.)\n",
    "\n",
    "plt.xlabel(\"\")\n",
    "plt.ylabel(\"F1-score\")\n",
    "\n",
    "plt.savefig(\"../figures/mutation_operator_assessment.pdf\")\n"
   ]
  },
  {
   "cell_type": "code",
   "execution_count": null,
   "metadata": {},
   "outputs": [],
   "source": []
  }
 ],
 "metadata": {
  "kernelspec": {
   "display_name": ".env",
   "language": "python",
   "name": "python3"
  },
  "language_info": {
   "codemirror_mode": {
    "name": "ipython",
    "version": 3
   },
   "file_extension": ".py",
   "mimetype": "text/x-python",
   "name": "python",
   "nbconvert_exporter": "python",
   "pygments_lexer": "ipython3",
   "version": "3.6.9 (default, Nov 25 2022, 14:10:45) \n[GCC 8.4.0]"
  },
  "orig_nbformat": 4,
  "vscode": {
   "interpreter": {
    "hash": "fe210a09dfc0fc0baf2f1cee754cb761edbdd3d7850b9b2d1a4bbbe1d3c1939e"
   }
  }
 },
 "nbformat": 4,
 "nbformat_minor": 2
}
