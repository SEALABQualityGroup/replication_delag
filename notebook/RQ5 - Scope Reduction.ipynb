{
 "cells": [
  {
   "cell_type": "code",
   "execution_count": 14,
   "id": "bf6b3c59",
   "metadata": {},
   "outputs": [],
   "source": [
    "from glob import glob\n",
    "import json\n",
    "\n",
    "import pandas as pd\n",
    "import numpy as np"
   ]
  },
  {
   "cell_type": "markdown",
   "id": "08400480",
   "metadata": {},
   "source": [
    "## RPC scope reduction"
   ]
  },
  {
   "cell_type": "code",
   "execution_count": 15,
   "id": "4bbbd1b5",
   "metadata": {},
   "outputs": [],
   "source": [
    "def rpc_scope_reduction(casestudy):\n",
    "    rpc_scope_res = []\n",
    "    datapath = '../datasets/{}/workload'.format(casestudy)\n",
    "    exp = pd.read_csv(datapath + '/experiments.csv', header=None, delimiter=';')\n",
    "    from_, to = exp.iloc[0, [1, 2]]\n",
    "    \n",
    "    with open('../results/{}/workload.json'.format(casestudy)) as f:\n",
    "        res = json.load(f)\n",
    "        \n",
    "    no_pattern = 2\n",
    "    for frontend in res.keys():\n",
    "        path = \"{}/{}__{}_{}.parquet\".format(datapath, frontend, from_, to)\n",
    "        df = pd.read_parquet(path)\n",
    "        rpcs =  [c for c in df.columns if c!=\"traceId\" and c!=\"experiment\" and  c!='frontend']\n",
    "        patset = res[frontend]\n",
    "        for pat in patset:\n",
    "            rpcs_ = {pred[0] for pred in pat}\n",
    "            rpc_scope_res.append(len(rpcs_)/len(rpcs))\n",
    "            no_pattern += 1\n",
    "    return rpc_scope_res\n",
    "        "
   ]
  },
  {
   "cell_type": "code",
   "execution_count": 16,
   "id": "27241ab6",
   "metadata": {},
   "outputs": [],
   "source": [
    "rpc_scope_res = []\n",
    "rpc_scope_res += rpc_scope_reduction('trainticket')\n",
    "rpc_scope_res += rpc_scope_reduction('eshopper')"
   ]
  },
  {
   "cell_type": "code",
   "execution_count": 17,
   "id": "232f65da",
   "metadata": {},
   "outputs": [
    {
     "name": "stdout",
     "output_type": "stream",
     "text": [
      "Mean RPC reduction provided by DeLag 10.4%%\n"
     ]
    }
   ],
   "source": [
    "\n",
    "print(\"Mean RPC reduction provided by DeLag {:.1%}%\".format(np.mean(rpc_scope_res)))"
   ]
  },
  {
   "cell_type": "markdown",
   "id": "cf53ec7d",
   "metadata": {},
   "source": [
    "## Requests scope reduction"
   ]
  },
  {
   "cell_type": "code",
   "execution_count": 18,
   "id": "10f0ae9c",
   "metadata": {},
   "outputs": [],
   "source": [
    "def req_scope_reduction(casestudy):\n",
    "    datapath = '../datasets/{}/workload'.format(casestudy)\n",
    "    exp = pd.read_csv(datapath + '/experiments.csv', header=None, delimiter=';')\n",
    "    from_, to = exp.iloc[0, [1, 2]]\n",
    "    \n",
    "    with open('../results/{}/workload.json'.format(casestudy)) as f:\n",
    "        res = json.load(f)\n",
    "    req_scope_res = []\n",
    "    for frontend in res.keys():\n",
    "        path = \"{}/{}__{}_{}.parquet\".format(datapath, frontend, from_, to)\n",
    "        df = pd.read_parquet(path)\n",
    "        patset = res[frontend]\n",
    "        for pat in patset:\n",
    "            df_ = df\n",
    "            for rpc, e_min, e_max in pat:\n",
    "                df_ = df_[(e_min <= df_[rpc]) & (df_[rpc] < e_max)]\n",
    "            req_scope_res.append(len(df_)/len(df))\n",
    "    return req_scope_res\n",
    "\n",
    "    "
   ]
  },
  {
   "cell_type": "code",
   "execution_count": 19,
   "id": "b4f25c63",
   "metadata": {},
   "outputs": [],
   "source": [
    "req_scope_res = []\n",
    "for cs in ['trainticket', 'eshopper']:\n",
    "    req_scope_res += req_scope_reduction(cs)"
   ]
  },
  {
   "cell_type": "code",
   "execution_count": 20,
   "id": "edeed191",
   "metadata": {},
   "outputs": [
    {
     "name": "stdout",
     "output_type": "stream",
     "text": [
      "Mean requests reduction provided by DeLag 14.2%\n"
     ]
    }
   ],
   "source": [
    "print(\"Mean requests reduction provided by DeLag {:.1%}\".format(np.mean(req_scope_res)))"
   ]
  },
  {
   "cell_type": "code",
   "execution_count": null,
   "id": "d8048ae8",
   "metadata": {},
   "outputs": [],
   "source": []
  }
 ],
 "metadata": {
  "kernelspec": {
   "display_name": "Python 3.6.9 ('.env': venv)",
   "language": "python",
   "name": "python3"
  },
  "language_info": {
   "codemirror_mode": {
    "name": "ipython",
    "version": 3
   },
   "file_extension": ".py",
   "mimetype": "text/x-python",
   "name": "python",
   "nbconvert_exporter": "python",
   "pygments_lexer": "ipython3",
   "version": "3.6.9"
  },
  "vscode": {
   "interpreter": {
    "hash": "fe210a09dfc0fc0baf2f1cee754cb761edbdd3d7850b9b2d1a4bbbe1d3c1939e"
   }
  }
 },
 "nbformat": 4,
 "nbformat_minor": 5
}
