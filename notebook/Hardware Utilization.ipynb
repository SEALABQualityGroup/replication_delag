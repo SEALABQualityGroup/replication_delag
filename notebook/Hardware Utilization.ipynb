{
 "cells": [
  {
   "cell_type": "code",
   "execution_count": 1,
   "metadata": {},
   "outputs": [],
   "source": [
    "import pandas as pd\n",
    "import seaborn as sns\n",
    "import matplotlib.pyplot as plt"
   ]
  },
  {
   "cell_type": "code",
   "execution_count": 2,
   "metadata": {},
   "outputs": [
    {
     "name": "stdout",
     "output_type": "stream",
     "text": [
      "trainticket\n",
      "count    120.000000\n",
      "mean      38.209167\n",
      "std        5.707801\n",
      "min       25.800000\n",
      "25%       33.925000\n",
      "50%       40.400000\n",
      "75%       42.100000\n",
      "max       51.900000\n",
      "Name: cpu, dtype: float64 \n",
      "\n",
      "eshopper\n",
      "count    120.000000\n",
      "mean      10.150833\n",
      "std        1.447455\n",
      "min        9.100000\n",
      "25%        9.700000\n",
      "50%        9.900000\n",
      "75%       10.100000\n",
      "max       23.900000\n",
      "Name: cpu, dtype: float64 \n",
      "\n"
     ]
    }
   ],
   "source": [
    "datapath = \"../datasets/{}/workload/profile.csv\"\n",
    "\n",
    "dfs = []\n",
    "for cs in [\"trainticket\", \"eshopper\"]:\n",
    "    df = pd.read_csv(datapath.format(cs))\n",
    "    df['casestudy'] = cs\n",
    "    dfs.append(df)\n",
    "    print(cs)\n",
    "    print(df.describe().loc[:, 'cpu'], '\\n')"
   ]
  },
  {
   "cell_type": "code",
   "execution_count": 5,
   "metadata": {},
   "outputs": [
    {
     "data": {
      "image/png": "[encoded data removed]",
      "text/plain": [
       "<Figure size 460.8x489.6 with 2 Axes>"
      ]
     },
     "metadata": {
      "needs_background": "light"
     },
     "output_type": "display_data"
    }
   ],
   "source": [
    "fig, axs = plt.subplots(nrows=1, ncols=2, figsize=[6.4, 6.8])\n",
    "\n",
    "for ax, df in zip(axs, dfs):\n",
    "    sns.boxplot(data=df, x='casestudy', y='cpu', showmeans=True, width=0.3, ax=ax)\n",
    "\n",
    "plt.tight_layout()"
   ]
  },
  {
   "cell_type": "code",
   "execution_count": null,
   "metadata": {},
   "outputs": [],
   "source": []
  }
 ],
 "metadata": {
  "kernelspec": {
   "display_name": ".env",
   "language": "python",
   "name": "python3"
  },
  "language_info": {
   "codemirror_mode": {
    "name": "ipython",
    "version": 3
   },
   "file_extension": ".py",
   "mimetype": "text/x-python",
   "name": "python",
   "nbconvert_exporter": "python",
   "pygments_lexer": "ipython3",
   "version": "3.6.9"
  },
  "orig_nbformat": 4,
  "vscode": {
   "interpreter": {
    "hash": "fe210a09dfc0fc0baf2f1cee754cb761edbdd3d7850b9b2d1a4bbbe1d3c1939e"
   }
  }
 },
 "nbformat": 4,
 "nbformat_minor": 2
}
